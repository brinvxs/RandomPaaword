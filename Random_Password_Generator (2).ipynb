{
  "nbformat": 4,
  "nbformat_minor": 0,
  "metadata": {
    "colab": {
      "provenance": []
    },
    "kernelspec": {
      "name": "python3",
      "display_name": "Python 3"
    },
    "language_info": {
      "name": "python"
    }
  },
  "cells": [
    {
      "cell_type": "code",
      "execution_count": 1,
      "metadata": {
        "id": "xdtcxOG9-RHj",
        "colab": {
          "base_uri": "https://localhost:8080/"
        },
        "outputId": "43408d4f-428c-4161-f1ef-c37db4e03ed4"
      },
      "outputs": [
        {
          "output_type": "stream",
          "name": "stdout",
          "text": [
            "Welcome to the PyPassword Generator!\n",
            "How many letters would you like in your password?\n",
            "8\n",
            "How many symbols would you like?\n",
            "2\n",
            "How many numbers would you like?\n",
            "1\n",
            "\n",
            "Your password is: (+wz0LpbiWK\n"
          ]
        }
      ],
      "source": [
        "import random\n",
        "letters = ['a', 'b', 'c', 'd', 'e', 'f', 'g', 'h', 'i', 'j', 'k', 'l', 'm', 'n', 'o', 'p', 'q', 'r', 's', 't', 'u', 'v', 'w', 'x', 'y', 'z', 'A', 'B', 'C', 'D', 'E', 'F', 'G', 'H', 'I', 'J', 'K', 'L', 'M', 'N', 'O', 'P', 'Q', 'R', 'S', 'T', 'U', 'V', 'W', 'X', 'Y', 'Z']\n",
        "numbers = ['0', '1', '2', '3', '4', '5', '6', '7', '8', '9']\n",
        "symbols = ['!', '#', '$', '%', '&', '(', ')', '*', '+']\n",
        "\n",
        "print(\"Welcome to the PyPassword Generator!\")\n",
        "nr_letters= int(input(\"How many letters would you like in your password?\\n\"))\n",
        "nr_symbols = int(input(f\"How many symbols would you like?\\n\"))\n",
        "nr_numbers = int(input(f\"How many numbers would you like?\\n\"))\n",
        "\n",
        "\n",
        "lett = random.choices(letters, k = nr_letters)\n",
        "num = random.choices(numbers, k = nr_numbers)\n",
        "sym = random.choices(symbols, k = nr_symbols)\n",
        "\n",
        "password = lett + num + sym\n",
        "random.shuffle(password)\n",
        "password = \"\".join(password)\n",
        "print(\"\\n\" \"Your password is: \" + password)"
      ]
    },
    {
      "cell_type": "code",
      "source": [
        "\n"
      ],
      "metadata": {
        "id": "RToj0tB7M_y9"
      },
      "execution_count": null,
      "outputs": []
    }
  ]
}